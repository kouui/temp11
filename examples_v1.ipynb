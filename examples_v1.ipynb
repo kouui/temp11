{
 "cells": [
  {
   "cell_type": "code",
   "execution_count": null,
   "metadata": {},
   "outputs": [],
   "source": [
    "%matplotlib tk\n",
    "import numpy as np\n",
    "import matplotlib.pyplot as plt"
   ]
  },
  {
   "cell_type": "code",
   "execution_count": null,
   "metadata": {},
   "outputs": [],
   "source": [
    "%load_ext autoreload\n",
    "%autoreload 2"
   ]
  },
  {
   "cell_type": "code",
   "execution_count": null,
   "metadata": {},
   "outputs": [],
   "source": [
    "from LibTest import makeTau"
   ]
  },
  {
   "cell_type": "markdown",
   "metadata": {},
   "source": [
    "## Example: Coherent Scattering with a linear Thermal Source"
   ]
  },
  {
   "cell_type": "code",
   "execution_count": null,
   "metadata": {},
   "outputs": [],
   "source": [
    "from LibCRD import DirectFeautrier1, AngleAveragedTmatrix"
   ]
  },
  {
   "cell_type": "code",
   "execution_count": null,
   "metadata": {},
   "outputs": [],
   "source": [
    "ND = 101\n",
    "tau = np.logspace(-4,+4,ND)\n",
    "\n",
    "I_upper = np.zeros(4,dtype=np.double)\n",
    "a, b = ?, ?\n",
    "B = ?\n",
    "eps = np.ones(ND, dtype=np.double) * 1E-2\n",
    "\n",
    "mus = np.array([0.06943184,  0.33000948,  0.66999052,  0.93056816],dtype=np.double)\n",
    "ws = np.array([0.17392742,  0.32607258,  0.32607258,  0.17392742],dtype=np.double)\n",
    "I_lower = ?\n",
    "\n",
    "J_exact = a + b*tau + ( (b-np.sqrt(3)*a)/np.sqrt(3)/(1+np.sqrt(eps)) ) * np.exp(-np.sqrt(3*eps)*tau)\n",
    "S_exact = (1-eps)*J_exact + eps*B\n",
    "S_feautrier = ?\n",
    "\n",
    "fig,ax = plt.subplots(1,1, figsize=(6,4),dpi=120)\n",
    "\n",
    "ax.plot(np.log10(tau), np.log10(S_feautrier), \"r\", label=\"Direct Featrier\")\n",
    "ax.plot(np.log10(tau), np.log10(S_exact), \"k\", label=\"exact\")\n",
    "ax.legend(loc=\"best\");"
   ]
  },
  {
   "cell_type": "markdown",
   "metadata": {},
   "source": [
    "iteration methods"
   ]
  },
  {
   "cell_type": "code",
   "execution_count": null,
   "metadata": {},
   "outputs": [],
   "source": [
    "Tavg, BC = ?"
   ]
  },
  {
   "cell_type": "code",
   "execution_count": null,
   "metadata": {},
   "outputs": [],
   "source": [
    "#-- LI\n",
    "S_LI = B.copy()\n",
    "... ..."
   ]
  },
  {
   "cell_type": "code",
   "execution_count": null,
   "metadata": {},
   "outputs": [],
   "source": [
    "#-- Jacobi\n",
    "S_ALI = B.copy()\n",
    "... ..."
   ]
  },
  {
   "cell_type": "code",
   "execution_count": null,
   "metadata": {},
   "outputs": [],
   "source": [
    "#-- Gauss-Seidel\n",
    "S_ALI2 = B.copy()\n",
    "... ..."
   ]
  },
  {
   "cell_type": "markdown",
   "metadata": {},
   "source": [
    "matrix inversion"
   ]
  },
  {
   "cell_type": "code",
   "execution_count": null,
   "metadata": {},
   "outputs": [],
   "source": [
    "A = ?\n",
    "S_inverse = np.linalg.solve( ? , ? )\n",
    "\n",
    "ax.plot(np.log10(tau), np.log10(S_inverse), \"r*\", markersize=3, label=\"Iverse\")\n",
    "ax.legend(loc=\"best\");"
   ]
  },
  {
   "cell_type": "markdown",
   "metadata": {},
   "source": [
    "## Example: Finite slab with linear source function"
   ]
  },
  {
   "cell_type": "code",
   "execution_count": null,
   "metadata": {},
   "outputs": [],
   "source": [
    "from scipy.integrate import quad\n",
    "from LibCRD import FormalFeautrier2nd, FormalImprovedRH, TmatrixImprovedRH"
   ]
  },
  {
   "cell_type": "code",
   "execution_count": null,
   "metadata": {},
   "outputs": [],
   "source": [
    "def integrand(t, tau, a, b, mu):\n",
    "    return (a+b*t)*np.exp(-abs(tau-t)/mu)/mu\n",
    "\n",
    "def j_tau(tau, I_upper, I_lower, mu, Tau, a, b):\n",
    "\n",
    "    sum = 0.\n",
    "    #for i in range(Tau.shape[0]-1):\n",
    "    #    res = quad(integrand, Tau[i], Tau[i+1], args=(tau, a, b, mu))\n",
    "    #    sum += res[0]\n",
    "    sum += quad(integrand, Tau[0], Tau[-1], args=(tau, a, b, mu))[0]\n",
    "\n",
    "    sum += I_lower*np.exp(-(Tau[-1]-tau)/mu) + I_upper*np.exp(-tau/mu)\n",
    "    sum *= 0.5\n",
    "\n",
    "    return sum"
   ]
  },
  {
   "cell_type": "code",
   "execution_count": null,
   "metadata": {},
   "outputs": [],
   "source": [
    "ND = 101\n",
    "Tau = makeTau(ND,1)\n",
    "a,b = ?,?\n",
    "S = ?\n",
    "I_upper = 0; I_lower = ?\n",
    "mu = 1.0\n",
    "\n",
    "\n",
    "j_integral = np.empty(ND, dtype=np.double)\n",
    "for k in range(ND):\n",
    "    j_integral[k] = j_tau(Tau[k], I_upper, I_lower, mu, Tau, a, b)\n",
    "\n",
    "\n",
    "j = ?\n",
    "\n",
    "\n",
    "fig,ax = plt.subplots(1,1, figsize=(6,4),dpi=120)\n",
    "ax.plot(Tau, j, \"ko\", label=\"differential\", markersize=5, markerfacecolor=\"None\",markeredgecolor=\"k\",markeredgewidth=0.5)\n",
    "ax.plot(Tau, j_integral, \"--k\", label=\"integral\")\n",
    "ax.legend(loc=\"best\");"
   ]
  },
  {
   "cell_type": "markdown",
   "metadata": {},
   "source": [
    "jit compiler"
   ]
  },
  {
   "cell_type": "code",
   "execution_count": null,
   "metadata": {},
   "outputs": [],
   "source": [
    "%timeit j = FormalImprovedRH(Tau, S, mu, h0=I_upper, hn=I_lower)"
   ]
  },
  {
   "cell_type": "code",
   "execution_count": null,
   "metadata": {},
   "outputs": [],
   "source": [
    "%timeit j = FormalImprovedRH(Tau, S, mu, h0=I_upper, hn=I_lower)"
   ]
  }
 ],
 "metadata": {
  "kernelspec": {
   "display_name": "Python 3",
   "language": "python",
   "name": "python3"
  },
  "language_info": {
   "codemirror_mode": {
    "name": "ipython",
    "version": 3
   },
   "file_extension": ".py",
   "mimetype": "text/x-python",
   "name": "python",
   "nbconvert_exporter": "python",
   "pygments_lexer": "ipython3",
   "version": "3.6.2"
  },
  "toc": {
   "nav_menu": {},
   "number_sections": false,
   "sideBar": true,
   "skip_h1_title": false,
   "toc_cell": false,
   "toc_position": {},
   "toc_section_display": "block",
   "toc_window_display": false
  }
 },
 "nbformat": 4,
 "nbformat_minor": 2
}
